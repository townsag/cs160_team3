{
 "cells": [
  {
   "cell_type": "code",
   "execution_count": 40,
   "metadata": {},
   "outputs": [],
   "source": [
    "import requests\n",
    "\n",
    "session = requests.Session()"
   ]
  },
  {
   "cell_type": "code",
   "execution_count": 41,
   "metadata": {},
   "outputs": [],
   "source": [
    "import pdb"
   ]
  },
  {
   "cell_type": "code",
   "execution_count": 42,
   "metadata": {},
   "outputs": [],
   "source": [
    "import db\n",
    "db.delete_all_tables()"
   ]
  },
  {
   "cell_type": "code",
   "execution_count": 43,
   "metadata": {},
   "outputs": [],
   "source": [
    "base_url = \"http://127.0.0.1:5000\"\n",
    "# data1 = {'username': 'Andrew3', 'password': 'asdfqwer', 'address': '1234 street st', \"is_admin\": 1}\n",
    "admin_1 = {'username': 'Andrew1', 'password': 'asdfqwer', \n",
    "           'address': '1148 La Terrace Cir. San Jose, CA 95123', \"is_admin\":1}\n",
    "admin_2 = {'username': 'Sabrina1', 'password': 'asdfqwer', \n",
    "           'address': '461 Blossom Hill rd. San Jose, CA 95123', \"is_admin\":1}\n",
    "admin_3 = {'username': 'Dustin1', 'password': 'asdfqwer', \n",
    "           'address': '19501 Stevens Creek Blvd. Cupertino, CA 95014', \"is_admin\":1}\n",
    "admin_4 = {'username': 'Klyde1', 'password': 'asdfqwer', \n",
    "           'address': '2056 Fairway Glen Dr. Santa Clara, CA 95054', \"is_admin\":1}\n",
    "\n"
   ]
  },
  {
   "cell_type": "code",
   "execution_count": 44,
   "metadata": {},
   "outputs": [],
   "source": [
    "request1 = session.post(url=\"http://127.0.0.1:5000/signup\", json=admin_1)"
   ]
  },
  {
   "cell_type": "code",
   "execution_count": 45,
   "metadata": {},
   "outputs": [
    {
     "name": "stdout",
     "output_type": "stream",
     "text": [
      "{\"address\":\"1148 La Terrace Cir. San Jose, CA 95123\",\"is_admin\":true,\"user_id\":\"1\",\"username\":\"Andrew1\"}\n",
      "\n"
     ]
    }
   ],
   "source": [
    "request1 = session.post(url=\"http://127.0.0.1:5000/updateUser\", json={\"address\": '1148 La Terrace Cir. San Jose, CA 95123'})\n",
    "request1 = session.get(url=\"http://127.0.0.1:5000/getUser\")\n",
    "print(request1.text)"
   ]
  },
  {
   "cell_type": "code",
   "execution_count": 46,
   "metadata": {},
   "outputs": [],
   "source": [
    "request1 = session.get(url=\"http://127.0.0.1:5000/logout\")"
   ]
  },
  {
   "cell_type": "code",
   "execution_count": 47,
   "metadata": {},
   "outputs": [
    {
     "name": "stdout",
     "output_type": "stream",
     "text": [
      "Signup Success\n",
      "{\"address\":\"461 Blossom Hill rd. San Jose, CA 95123\",\"is_admin\":true,\"user_id\":\"2\",\"username\":\"Sabrina1\"}\n",
      " \n",
      "\n",
      "Signup Success\n",
      "{\"address\":\"19501 Stevens Creek Blvd. Cupertino, CA 95014\",\"is_admin\":true,\"user_id\":\"3\",\"username\":\"Dustin1\"}\n",
      " \n",
      "\n",
      "Signup Success\n",
      "{\"address\":\"2056 Fairway Glen Dr. Santa Clara, CA 95054\",\"is_admin\":true,\"user_id\":\"4\",\"username\":\"Klyde1\"}\n",
      " \n",
      "\n"
     ]
    }
   ],
   "source": [
    "for user_data in [admin_2, admin_3, admin_4]:\n",
    "    request2 = session.post(url=\"http://127.0.0.1:5000/signup\", json=user_data)\n",
    "    print(request2.text)\n",
    "    temp = {}\n",
    "    temp[\"address\"] = user_data[\"address\"]\n",
    "    request2 = session.post(url=\"http://127.0.0.1:5000/updateUser\", json=temp)\n",
    "    request2 = session.get(url=\"http://127.0.0.1:5000/getUser\")\n",
    "    print(request2.text, \"\\n\")\n",
    "    request2 = session.get(url=\"http://127.0.0.1:5000/logout\")"
   ]
  },
  {
   "cell_type": "code",
   "execution_count": 48,
   "metadata": {},
   "outputs": [
    {
     "name": "stdout",
     "output_type": "stream",
     "text": [
      "[{\"category_id\": 1, \"name\": \"Fruits\"}, {\"category_id\": 2, \"name\": \"Protein\"}, {\"category_id\": 3, \"name\": \"Nuts\"}, {\"category_id\": 4, \"name\": \"Vegetable\"}]\n"
     ]
    }
   ],
   "source": [
    "request3 = session.post(url=\"http://127.0.0.1:5000/login\", json={\"username\":\"Andrew1\", \"password\": \"asdfqwer\"})\n",
    "request3 = session.post(url=\"http://127.0.0.1:5000/createCategory\", json={\"name\":\"Fruits\"})\n",
    "request3 = session.post(url=\"http://127.0.0.1:5000/createCategory\", json={\"name\":\"Protein\"})\n",
    "request3 = session.post(url=\"http://127.0.0.1:5000/createCategory\", json={\"name\":\"Nuts\"})\n",
    "request3 = session.post(url=\"http://127.0.0.1:5000/createCategory\", json={\"name\":\"Vegetable\"})\n",
    "request3 = session.get(url=\"http://127.0.0.1:5000/getCategories\")\n",
    "print(request3.text)"
   ]
  },
  {
   "cell_type": "code",
   "execution_count": 49,
   "metadata": {},
   "outputs": [
    {
     "name": "stdout",
     "output_type": "stream",
     "text": [
      "[{\"tag_id\": 1, \"name\": \"Gluten Free\"}, {\"tag_id\": 2, \"name\": \"Vegetarian\"}, {\"tag_id\": 3, \"name\": \"Vegan\"}, {\"tag_id\": 4, \"name\": \"Lactose Free\"}, {\"tag_id\": 5, \"name\": \"Nut Free\"}]\n"
     ]
    }
   ],
   "source": [
    "request3 = session.post(url=\"http://127.0.0.1:5000/createTag\", json={\"name\":\"Gluten Free\"})\n",
    "request3 = session.post(url=\"http://127.0.0.1:5000/createTag\", json={\"name\":\"Vegetarian\"})\n",
    "request3 = session.post(url=\"http://127.0.0.1:5000/createTag\", json={\"name\":\"Vegan\"})\n",
    "request3 = session.post(url=\"http://127.0.0.1:5000/createTag\", json={\"name\":\"Lactose Free\"})\n",
    "request3 = session.post(url=\"http://127.0.0.1:5000/createTag\", json={\"name\":\"Nut Free\"})\n",
    "request3 = session.get(url=\"http://127.0.0.1:5000/getTags\")\n",
    "print(request3.text)"
   ]
  },
  {
   "cell_type": "code",
   "execution_count": 50,
   "metadata": {},
   "outputs": [],
   "source": [
    "products = [\n",
    "{'name': 'Apple',\n",
    "  'description': 'Fresh and crisp apple, rich in vitamins and fiber',\n",
    "  'image': 'https://encrypted-tbn0.gstatic.com/images?q=tbn:ANd9GcTN2Hgg8YOw4ntI9XZl0XX4ppf2VmSYyMrwJjFJhpYJrMeMt6y0XcMqdrQwUytsYfMldkI&usqp=CAU',\n",
    "  'quantity': 100,\n",
    "  'price': 19.99,\n",
    "  'weight': 5.51,\n",
    "  'category_id': 1,\n",
    "  'tags': [1, 2, 3, 4, 5]},\n",
    " {'name': 'Almonds',\n",
    "  'description': 'Premium quality almonds, packed with healthy fats and protein',\n",
    "  'image': 'https://www.healthysupplies.co.uk/pics/almonds-catpic21.jpg',\n",
    "  'quantity': 50,\n",
    "  'price': 23.99,\n",
    "  'weight': 6.17,\n",
    "  'category_id': 3,\n",
    "  'tags': [1, 2, 3, 4]},\n",
    " {'name': 'Eggplant',\n",
    "  'description': 'Organic eggplant, perfect for various culinary delights',\n",
    "  'image': 'https://mucci-production-user-uploads-bucket.s3.amazonaws.com/images/Product-IMG_MiniEggplant-rev.original.png',\n",
    "  'quantity': 50,\n",
    "  'price': 23.99,\n",
    "  'weight': 6.17,\n",
    "  'category_id': 4,\n",
    "  'tags': [1, 2, 3, 4, 5]},\n",
    " {'name': 'Banana',\n",
    "  'description': 'Sweet and nutritious banana, a great source of energy',\n",
    "  'image': 'https://th-thumbnailer.cdn-si-edu.com/4Nq8HbTKgX6djk07DqHqRsRuFq0=/1000x750/filters:no_upscale()/https://tf-cmsv2-smithsonianmag-media.s3.amazonaws.com/filer/d5/24/d5243019-e0fc-4b3c-8cdb-48e22f38bff2/istock-183380744.jpg',\n",
    "  'quantity': 50,\n",
    "  'price': 23.99,\n",
    "  'weight': 6.17,\n",
    "  'category_id': 1,\n",
    "  'tags': [1, 2, 3, 4, 5]},\n",
    " {'name': 'Beef',\n",
    "  'description': 'Premium lean beef, a great source of high-quality protein',\n",
    "  'image': 'https://images.inc.com/uploaded_files/image/1920x1080/getty_80116649_344560.jpg',\n",
    "  'quantity': 50,\n",
    "  'price': 23.99,\n",
    "  'weight': 6.17,\n",
    "  'category_id': 2,\n",
    "  'tags': [1, 4, 5]},\n",
    " {'name': 'Cheese',\n",
    "  'description': 'Aged cheddar cheese, rich in calcium and delicious flavor',\n",
    "  'image': 'https://cdn.britannica.com/60/217660-050-DBCC409A/cheddar-cheese-wedge.jpg',\n",
    "  'quantity': 50,\n",
    "  'price': 23.99,\n",
    "  'weight': 6.17,\n",
    "  'category_id': 2,\n",
    "  'tags': [1, 5]},\n",
    " {'name': 'Chicken',\n",
    "  'description': 'Premium chicken breast, a versatile and healthy protein option',\n",
    "  'image': 'https://images.eatthismuch.com/img/395_ldementhon_471464da-daad-4a92-8b5d-7e9a6de898a8.png',\n",
    "  'quantity': 50,\n",
    "  'price': 23.99,\n",
    "  'weight': 6.17,\n",
    "  'category_id': 2,\n",
    "  'tags': [1, 4, 5]},\n",
    " {'name': 'Walnuts',\n",
    "  'description': 'Fresh and crunchy walnuts, high in omega-3 fatty acids',\n",
    "  'image': 'https://cdn.britannica.com/69/124169-050-54860BD1/fruit-walnut-tree-husk.jpg',\n",
    "  'quantity': 50,\n",
    "  'price': 23.99,\n",
    "  'weight': 6.17,\n",
    "  'category_id': 3,\n",
    "  'tags': [1, 2, 3, 4]},\n",
    " {'name': 'Orange',\n",
    "  'description': 'Sweet and citrusy fruit',\n",
    "  'image': 'https://www.mz-store.com/blog/wp-content/uploads_en/2020/11/shutterstock_342874121.jpg',\n",
    "  'quantity': 50,\n",
    "  'price': 14.99,\n",
    "  'weight': 3.3,\n",
    "  'category_id': 1,\n",
    "  'tags': [1, 2, 3, 4, 5]},\n",
    " {'name': 'Salmon',\n",
    "  'description': 'Healthy and delicious fish',\n",
    "  'image': 'https://m.media-amazon.com/images/I/511ld5XjFwL.jpg',\n",
    "  'quantity': 50,\n",
    "  'price': 29.99,\n",
    "  'weight': 0.75,\n",
    "  'category_id': 2,\n",
    "  'tags': [1, 4, 5]},\n",
    " {'name': 'Cashews',\n",
    "  'description': 'Creamy and crunchy nuts',\n",
    "  'image': 'https://nuts.com/images/rackcdn/ed910ae2d60f0d25bcb8-80550f96b5feb12604f4f720bfefb46d.ssl.cf1.rackcdn.com/62d4000cb074ab08-0HVMW7Um-zoom.jpg',\n",
    "  'quantity': 50,\n",
    "  'price': 19.99,\n",
    "  'weight': 5.1,\n",
    "  'category_id': 3,\n",
    "  'tags': [1, 2, 3, 4]},\n",
    " {'name': 'Spinach',\n",
    "  'description': 'Nutrient-rich leafy green',\n",
    "  'image': 'https://farmfreshcarolinas.com/wp-content/uploads/2019/02/Baby-spinach-scaled.jpg',\n",
    "  'quantity': 50,\n",
    "  'price': 9.99,\n",
    "  'weight': 0.88,\n",
    "  'category_id': 4,\n",
    "  'tags': [1, 2, 3, 4, 5]},\n",
    " {'name': 'Peach',\n",
    "  'description': 'Juicy and flavorful fruit',\n",
    "  'image': 'https://www.eatrightbasket.com/wp-content/uploads/2019/06/Peach.jpg',\n",
    "  'quantity': 50,\n",
    "  'price': 16.99,\n",
    "  'weight': 3.8,\n",
    "  'category_id': 1,\n",
    "  'tags': [1, 2, 3, 4, 5]},\n",
    " {'name': 'Tofu',\n",
    "  'description': 'Versatile plant-based protein',\n",
    "  'image': 'https://static.vecteezy.com/system/resources/previews/022/841/506/large_2x/white-tofu-and-green-leaves-isolated-on-white-background-with-clipping-path-photo.jpg',\n",
    "  'quantity': 50,\n",
    "  'price': 12.99,\n",
    "  'weight': 2.2,\n",
    "  'category_id': 2,\n",
    "  'tags': [1, 2, 3, 4, 5]},\n",
    " {'name': 'Pistachios',\n",
    "  'description': 'Delicious and healthy nuts',\n",
    "  'image': 'https://candylandstore.com/wp-content/uploads/2016/08/pistachio.jpg',\n",
    "  'quantity': 50,\n",
    "  'price': 21.99,\n",
    "  'weight': 5.7,\n",
    "  'category_id': 3,\n",
    "  'tags': [1, 2, 3, 4]},\n",
    " {'name': 'Broccoli',\n",
    "  'description': 'Nutritious cruciferous vegetable',\n",
    "  'image': 'https://thumbs.dreamstime.com/b/fresh-green-broccoli-white-background-organic-food-151980220.jpg',\n",
    "  'quantity': 50,\n",
    "  'price': 8.99,\n",
    "  'weight': 1.5,\n",
    "  'category_id': 4,\n",
    "  'tags': [1, 2, 3, 4, 5]},\n",
    " {'name': 'Mango',\n",
    "  'description': 'Sweet tropical fruit',\n",
    "  'image': 'https://wallpapers.com/images/hd/mango-background-9no344bpdko4hrrs.jpg',\n",
    "  'quantity': 50,\n",
    "  'price': 18.99,\n",
    "  'weight': 2.8,\n",
    "  'category_id': 1,\n",
    "  'tags': [1, 2, 3, 4, 5]},\n",
    " {'name': 'Chickpeas',\n",
    "  'description': 'Protein-packed legumes',\n",
    "  'image': 'https://t3.ftcdn.net/jpg/02/83/97/16/360_F_283971637_l01oKnCdtSDjeSrr0HzsK35wQtx91CNc.jpg',\n",
    "  'quantity': 50,\n",
    "  'price': 7.99,\n",
    "  'weight': 2.0,\n",
    "  'category_id': 4,\n",
    "  'tags': [1, 2, 3, 4, 5]}]"
   ]
  },
  {
   "cell_type": "code",
   "execution_count": 51,
   "metadata": {},
   "outputs": [
    {
     "name": "stdout",
     "output_type": "stream",
     "text": [
      "{\"category\":{\"category_id\":1,\"name\":\"Fruits\"},\"description\":\"Fresh and crisp apple, rich in vitamins and fiber\",\"image\":\"https://encrypted-tbn0.gstatic.com/images?q=tbn:ANd9GcTN2Hgg8YOw4ntI9XZl0XX4ppf2VmSYyMrwJjFJhpYJrMeMt6y0XcMqdrQwUytsYfMldkI&usqp=CAU\",\"name\":\"Apple\",\"price\":19.99,\"product_id\":1,\"quantity\":100,\"tags\":[{\"name\":\"Gluten Free\",\"tag_id\":1},{\"name\":\"Vegetarian\",\"tag_id\":2},{\"name\":\"Vegan\",\"tag_id\":3},{\"name\":\"Lactose Free\",\"tag_id\":4},{\"name\":\"Nut Free\",\"tag_id\":5}],\"weight\":5.51}\n",
      "\n",
      "{\"category\":{\"category_id\":3,\"name\":\"Nuts\"},\"description\":\"Premium quality almonds, packed with healthy fats and protein\",\"image\":\"https://www.healthysupplies.co.uk/pics/almonds-catpic21.jpg\",\"name\":\"Almonds\",\"price\":23.99,\"product_id\":2,\"quantity\":50,\"tags\":[{\"name\":\"Gluten Free\",\"tag_id\":1},{\"name\":\"Vegetarian\",\"tag_id\":2},{\"name\":\"Vegan\",\"tag_id\":3},{\"name\":\"Lactose Free\",\"tag_id\":4}],\"weight\":6.17}\n",
      "\n",
      "{\"category\":{\"category_id\":4,\"name\":\"Vegetable\"},\"description\":\"Organic eggplant, perfect for various culinary delights\",\"image\":\"https://mucci-production-user-uploads-bucket.s3.amazonaws.com/images/Product-IMG_MiniEggplant-rev.original.png\",\"name\":\"Eggplant\",\"price\":23.99,\"product_id\":3,\"quantity\":50,\"tags\":[{\"name\":\"Gluten Free\",\"tag_id\":1},{\"name\":\"Vegetarian\",\"tag_id\":2},{\"name\":\"Vegan\",\"tag_id\":3},{\"name\":\"Lactose Free\",\"tag_id\":4},{\"name\":\"Nut Free\",\"tag_id\":5}],\"weight\":6.17}\n",
      "\n",
      "{\"category\":{\"category_id\":1,\"name\":\"Fruits\"},\"description\":\"Sweet and nutritious banana, a great source of energy\",\"image\":\"https://th-thumbnailer.cdn-si-edu.com/4Nq8HbTKgX6djk07DqHqRsRuFq0=/1000x750/filters:no_upscale()/https://tf-cmsv2-smithsonianmag-media.s3.amazonaws.com/filer/d5/24/d5243019-e0fc-4b3c-8cdb-48e22f38bff2/istock-183380744.jpg\",\"name\":\"Banana\",\"price\":23.99,\"product_id\":4,\"quantity\":50,\"tags\":[{\"name\":\"Gluten Free\",\"tag_id\":1},{\"name\":\"Vegetarian\",\"tag_id\":2},{\"name\":\"Vegan\",\"tag_id\":3},{\"name\":\"Lactose Free\",\"tag_id\":4},{\"name\":\"Nut Free\",\"tag_id\":5}],\"weight\":6.17}\n",
      "\n",
      "{\"category\":{\"category_id\":2,\"name\":\"Protein\"},\"description\":\"Premium lean beef, a great source of high-quality protein\",\"image\":\"https://images.inc.com/uploaded_files/image/1920x1080/getty_80116649_344560.jpg\",\"name\":\"Beef\",\"price\":23.99,\"product_id\":5,\"quantity\":50,\"tags\":[{\"name\":\"Gluten Free\",\"tag_id\":1},{\"name\":\"Lactose Free\",\"tag_id\":4},{\"name\":\"Nut Free\",\"tag_id\":5}],\"weight\":6.17}\n",
      "\n",
      "{\"category\":{\"category_id\":2,\"name\":\"Protein\"},\"description\":\"Aged cheddar cheese, rich in calcium and delicious flavor\",\"image\":\"https://cdn.britannica.com/60/217660-050-DBCC409A/cheddar-cheese-wedge.jpg\",\"name\":\"Cheese\",\"price\":23.99,\"product_id\":6,\"quantity\":50,\"tags\":[{\"name\":\"Gluten Free\",\"tag_id\":1},{\"name\":\"Nut Free\",\"tag_id\":5}],\"weight\":6.17}\n",
      "\n",
      "{\"category\":{\"category_id\":2,\"name\":\"Protein\"},\"description\":\"Premium chicken breast, a versatile and healthy protein option\",\"image\":\"https://images.eatthismuch.com/img/395_ldementhon_471464da-daad-4a92-8b5d-7e9a6de898a8.png\",\"name\":\"Chicken\",\"price\":23.99,\"product_id\":7,\"quantity\":50,\"tags\":[{\"name\":\"Gluten Free\",\"tag_id\":1},{\"name\":\"Lactose Free\",\"tag_id\":4},{\"name\":\"Nut Free\",\"tag_id\":5}],\"weight\":6.17}\n",
      "\n",
      "{\"category\":{\"category_id\":3,\"name\":\"Nuts\"},\"description\":\"Fresh and crunchy walnuts, high in omega-3 fatty acids\",\"image\":\"https://cdn.britannica.com/69/124169-050-54860BD1/fruit-walnut-tree-husk.jpg\",\"name\":\"Walnuts\",\"price\":23.99,\"product_id\":8,\"quantity\":50,\"tags\":[{\"name\":\"Gluten Free\",\"tag_id\":1},{\"name\":\"Vegetarian\",\"tag_id\":2},{\"name\":\"Vegan\",\"tag_id\":3},{\"name\":\"Lactose Free\",\"tag_id\":4}],\"weight\":6.17}\n",
      "\n",
      "{\"category\":{\"category_id\":1,\"name\":\"Fruits\"},\"description\":\"Sweet and citrusy fruit\",\"image\":\"https://www.mz-store.com/blog/wp-content/uploads_en/2020/11/shutterstock_342874121.jpg\",\"name\":\"Orange\",\"price\":14.99,\"product_id\":9,\"quantity\":50,\"tags\":[{\"name\":\"Gluten Free\",\"tag_id\":1},{\"name\":\"Vegetarian\",\"tag_id\":2},{\"name\":\"Vegan\",\"tag_id\":3},{\"name\":\"Lactose Free\",\"tag_id\":4},{\"name\":\"Nut Free\",\"tag_id\":5}],\"weight\":3.3}\n",
      "\n",
      "{\"category\":{\"category_id\":2,\"name\":\"Protein\"},\"description\":\"Healthy and delicious fish\",\"image\":\"https://m.media-amazon.com/images/I/511ld5XjFwL.jpg\",\"name\":\"Salmon\",\"price\":29.99,\"product_id\":10,\"quantity\":50,\"tags\":[{\"name\":\"Gluten Free\",\"tag_id\":1},{\"name\":\"Lactose Free\",\"tag_id\":4},{\"name\":\"Nut Free\",\"tag_id\":5}],\"weight\":0.75}\n",
      "\n",
      "{\"category\":{\"category_id\":3,\"name\":\"Nuts\"},\"description\":\"Creamy and crunchy nuts\",\"image\":\"https://nuts.com/images/rackcdn/ed910ae2d60f0d25bcb8-80550f96b5feb12604f4f720bfefb46d.ssl.cf1.rackcdn.com/62d4000cb074ab08-0HVMW7Um-zoom.jpg\",\"name\":\"Cashews\",\"price\":19.99,\"product_id\":11,\"quantity\":50,\"tags\":[{\"name\":\"Gluten Free\",\"tag_id\":1},{\"name\":\"Vegetarian\",\"tag_id\":2},{\"name\":\"Vegan\",\"tag_id\":3},{\"name\":\"Lactose Free\",\"tag_id\":4}],\"weight\":5.1}\n",
      "\n",
      "{\"category\":{\"category_id\":4,\"name\":\"Vegetable\"},\"description\":\"Nutrient-rich leafy green\",\"image\":\"https://farmfreshcarolinas.com/wp-content/uploads/2019/02/Baby-spinach-scaled.jpg\",\"name\":\"Spinach\",\"price\":9.99,\"product_id\":12,\"quantity\":50,\"tags\":[{\"name\":\"Gluten Free\",\"tag_id\":1},{\"name\":\"Vegetarian\",\"tag_id\":2},{\"name\":\"Vegan\",\"tag_id\":3},{\"name\":\"Lactose Free\",\"tag_id\":4},{\"name\":\"Nut Free\",\"tag_id\":5}],\"weight\":0.88}\n",
      "\n",
      "{\"category\":{\"category_id\":1,\"name\":\"Fruits\"},\"description\":\"Juicy and flavorful fruit\",\"image\":\"https://www.eatrightbasket.com/wp-content/uploads/2019/06/Peach.jpg\",\"name\":\"Peach\",\"price\":16.99,\"product_id\":13,\"quantity\":50,\"tags\":[{\"name\":\"Gluten Free\",\"tag_id\":1},{\"name\":\"Vegetarian\",\"tag_id\":2},{\"name\":\"Vegan\",\"tag_id\":3},{\"name\":\"Lactose Free\",\"tag_id\":4},{\"name\":\"Nut Free\",\"tag_id\":5}],\"weight\":3.8}\n",
      "\n",
      "{\"category\":{\"category_id\":2,\"name\":\"Protein\"},\"description\":\"Versatile plant-based protein\",\"image\":\"https://static.vecteezy.com/system/resources/previews/022/841/506/large_2x/white-tofu-and-green-leaves-isolated-on-white-background-with-clipping-path-photo.jpg\",\"name\":\"Tofu\",\"price\":12.99,\"product_id\":14,\"quantity\":50,\"tags\":[{\"name\":\"Gluten Free\",\"tag_id\":1},{\"name\":\"Vegetarian\",\"tag_id\":2},{\"name\":\"Vegan\",\"tag_id\":3},{\"name\":\"Lactose Free\",\"tag_id\":4},{\"name\":\"Nut Free\",\"tag_id\":5}],\"weight\":2.2}\n",
      "\n",
      "{\"category\":{\"category_id\":3,\"name\":\"Nuts\"},\"description\":\"Delicious and healthy nuts\",\"image\":\"https://candylandstore.com/wp-content/uploads/2016/08/pistachio.jpg\",\"name\":\"Pistachios\",\"price\":21.99,\"product_id\":15,\"quantity\":50,\"tags\":[{\"name\":\"Gluten Free\",\"tag_id\":1},{\"name\":\"Vegetarian\",\"tag_id\":2},{\"name\":\"Vegan\",\"tag_id\":3},{\"name\":\"Lactose Free\",\"tag_id\":4}],\"weight\":5.7}\n",
      "\n",
      "{\"category\":{\"category_id\":4,\"name\":\"Vegetable\"},\"description\":\"Nutritious cruciferous vegetable\",\"image\":\"https://thumbs.dreamstime.com/b/fresh-green-broccoli-white-background-organic-food-151980220.jpg\",\"name\":\"Broccoli\",\"price\":8.99,\"product_id\":16,\"quantity\":50,\"tags\":[{\"name\":\"Gluten Free\",\"tag_id\":1},{\"name\":\"Vegetarian\",\"tag_id\":2},{\"name\":\"Vegan\",\"tag_id\":3},{\"name\":\"Lactose Free\",\"tag_id\":4},{\"name\":\"Nut Free\",\"tag_id\":5}],\"weight\":1.5}\n",
      "\n",
      "{\"category\":{\"category_id\":1,\"name\":\"Fruits\"},\"description\":\"Sweet tropical fruit\",\"image\":\"https://wallpapers.com/images/hd/mango-background-9no344bpdko4hrrs.jpg\",\"name\":\"Mango\",\"price\":18.99,\"product_id\":17,\"quantity\":50,\"tags\":[{\"name\":\"Gluten Free\",\"tag_id\":1},{\"name\":\"Vegetarian\",\"tag_id\":2},{\"name\":\"Vegan\",\"tag_id\":3},{\"name\":\"Lactose Free\",\"tag_id\":4},{\"name\":\"Nut Free\",\"tag_id\":5}],\"weight\":2.8}\n",
      "\n",
      "{\"category\":{\"category_id\":4,\"name\":\"Vegetable\"},\"description\":\"Protein-packed legumes\",\"image\":\"https://t3.ftcdn.net/jpg/02/83/97/16/360_F_283971637_l01oKnCdtSDjeSrr0HzsK35wQtx91CNc.jpg\",\"name\":\"Chickpeas\",\"price\":7.99,\"product_id\":18,\"quantity\":50,\"tags\":[{\"name\":\"Gluten Free\",\"tag_id\":1},{\"name\":\"Vegetarian\",\"tag_id\":2},{\"name\":\"Vegan\",\"tag_id\":3},{\"name\":\"Lactose Free\",\"tag_id\":4},{\"name\":\"Nut Free\",\"tag_id\":5}],\"weight\":2.0}\n",
      "\n"
     ]
    }
   ],
   "source": [
    "for product in products:\n",
    "    request4 = session.post(url=\"http://127.0.0.1:5000/createProduct\", json=product)\n",
    "    print(request4.text)"
   ]
  },
  {
   "cell_type": "code",
   "execution_count": 52,
   "metadata": {},
   "outputs": [
    {
     "name": "stdout",
     "output_type": "stream",
     "text": [
      "Logging out Andrew1\n"
     ]
    }
   ],
   "source": [
    "request4 = session.get(url=\"http://127.0.0.1:5000/logout\")\n",
    "print(request4.text)"
   ]
  },
  {
   "cell_type": "code",
   "execution_count": 53,
   "metadata": {},
   "outputs": [],
   "source": [
    "users_credentials = [\n",
    "    {\"username\":\"Andrew1\", \"password\":\"asdfqwer\"},\n",
    "    {\"username\":\"Dustin1\", \"password\":\"asdfqwer\"},\n",
    "    {\"username\":\"Klyde1\", \"password\":\"asdfqwer\"},\n",
    "    {'username': 'Sabrina1', 'password': 'asdfqwer'}\n",
    "]"
   ]
  },
  {
   "cell_type": "code",
   "execution_count": 54,
   "metadata": {},
   "outputs": [
    {
     "name": "stdout",
     "output_type": "stream",
     "text": [
      "{\"cart_id\":1,\"items\":[{\"cart_item_id\":1,\"category\":{\"category_id\":1,\"name\":\"Fruits\"},\"description\":\"Fresh and crisp apple, rich in vitamins and fiber\",\"image\":\"https://encrypted-tbn0.gstatic.com/images?q=tbn:ANd9GcTN2Hgg8YOw4ntI9XZl0XX4ppf2VmSYyMrwJjFJhpYJrMeMt6y0XcMqdrQwUytsYfMldkI&usqp=CAU\",\"name\":\"Apple\",\"price\":19.99,\"product_id\":1,\"quantity\":3,\"tags\":[{\"name\":\"Gluten Free\",\"tag_id\":1},{\"name\":\"Vegetarian\",\"tag_id\":2},{\"name\":\"Vegan\",\"tag_id\":3},{\"name\":\"Lactose Free\",\"tag_id\":4},{\"name\":\"Nut Free\",\"tag_id\":5}],\"weight\":5.51},{\"cart_item_id\":2,\"category\":{\"category_id\":3,\"name\":\"Nuts\"},\"description\":\"Premium quality almonds, packed with healthy fats and protein\",\"image\":\"https://www.healthysupplies.co.uk/pics/almonds-catpic21.jpg\",\"name\":\"Almonds\",\"price\":23.99,\"product_id\":2,\"quantity\":4,\"tags\":[{\"name\":\"Gluten Free\",\"tag_id\":1},{\"name\":\"Vegetarian\",\"tag_id\":2},{\"name\":\"Vegan\",\"tag_id\":3},{\"name\":\"Lactose Free\",\"tag_id\":4}],\"weight\":6.17},{\"cart_item_id\":3,\"category\":{\"category_id\":4,\"name\":\"Vegetable\"},\"description\":\"Organic eggplant, perfect for various culinary delights\",\"image\":\"https://mucci-production-user-uploads-bucket.s3.amazonaws.com/images/Product-IMG_MiniEggplant-rev.original.png\",\"name\":\"Eggplant\",\"price\":23.99,\"product_id\":3,\"quantity\":5,\"tags\":[{\"name\":\"Gluten Free\",\"tag_id\":1},{\"name\":\"Vegetarian\",\"tag_id\":2},{\"name\":\"Vegan\",\"tag_id\":3},{\"name\":\"Lactose Free\",\"tag_id\":4},{\"name\":\"Nut Free\",\"tag_id\":5}],\"weight\":6.17}]}\n",
      " \n",
      "\n",
      "{\"cart_id\":2,\"items\":[{\"cart_item_id\":4,\"category\":{\"category_id\":1,\"name\":\"Fruits\"},\"description\":\"Fresh and crisp apple, rich in vitamins and fiber\",\"image\":\"https://encrypted-tbn0.gstatic.com/images?q=tbn:ANd9GcTN2Hgg8YOw4ntI9XZl0XX4ppf2VmSYyMrwJjFJhpYJrMeMt6y0XcMqdrQwUytsYfMldkI&usqp=CAU\",\"name\":\"Apple\",\"price\":19.99,\"product_id\":1,\"quantity\":3,\"tags\":[{\"name\":\"Gluten Free\",\"tag_id\":1},{\"name\":\"Vegetarian\",\"tag_id\":2},{\"name\":\"Vegan\",\"tag_id\":3},{\"name\":\"Lactose Free\",\"tag_id\":4},{\"name\":\"Nut Free\",\"tag_id\":5}],\"weight\":5.51},{\"cart_item_id\":5,\"category\":{\"category_id\":3,\"name\":\"Nuts\"},\"description\":\"Premium quality almonds, packed with healthy fats and protein\",\"image\":\"https://www.healthysupplies.co.uk/pics/almonds-catpic21.jpg\",\"name\":\"Almonds\",\"price\":23.99,\"product_id\":2,\"quantity\":4,\"tags\":[{\"name\":\"Gluten Free\",\"tag_id\":1},{\"name\":\"Vegetarian\",\"tag_id\":2},{\"name\":\"Vegan\",\"tag_id\":3},{\"name\":\"Lactose Free\",\"tag_id\":4}],\"weight\":6.17},{\"cart_item_id\":6,\"category\":{\"category_id\":4,\"name\":\"Vegetable\"},\"description\":\"Organic eggplant, perfect for various culinary delights\",\"image\":\"https://mucci-production-user-uploads-bucket.s3.amazonaws.com/images/Product-IMG_MiniEggplant-rev.original.png\",\"name\":\"Eggplant\",\"price\":23.99,\"product_id\":3,\"quantity\":5,\"tags\":[{\"name\":\"Gluten Free\",\"tag_id\":1},{\"name\":\"Vegetarian\",\"tag_id\":2},{\"name\":\"Vegan\",\"tag_id\":3},{\"name\":\"Lactose Free\",\"tag_id\":4},{\"name\":\"Nut Free\",\"tag_id\":5}],\"weight\":6.17}]}\n",
      " \n",
      "\n",
      "{\"cart_id\":3,\"items\":[{\"cart_item_id\":7,\"category\":{\"category_id\":1,\"name\":\"Fruits\"},\"description\":\"Fresh and crisp apple, rich in vitamins and fiber\",\"image\":\"https://encrypted-tbn0.gstatic.com/images?q=tbn:ANd9GcTN2Hgg8YOw4ntI9XZl0XX4ppf2VmSYyMrwJjFJhpYJrMeMt6y0XcMqdrQwUytsYfMldkI&usqp=CAU\",\"name\":\"Apple\",\"price\":19.99,\"product_id\":1,\"quantity\":3,\"tags\":[{\"name\":\"Gluten Free\",\"tag_id\":1},{\"name\":\"Vegetarian\",\"tag_id\":2},{\"name\":\"Vegan\",\"tag_id\":3},{\"name\":\"Lactose Free\",\"tag_id\":4},{\"name\":\"Nut Free\",\"tag_id\":5}],\"weight\":5.51},{\"cart_item_id\":8,\"category\":{\"category_id\":3,\"name\":\"Nuts\"},\"description\":\"Premium quality almonds, packed with healthy fats and protein\",\"image\":\"https://www.healthysupplies.co.uk/pics/almonds-catpic21.jpg\",\"name\":\"Almonds\",\"price\":23.99,\"product_id\":2,\"quantity\":4,\"tags\":[{\"name\":\"Gluten Free\",\"tag_id\":1},{\"name\":\"Vegetarian\",\"tag_id\":2},{\"name\":\"Vegan\",\"tag_id\":3},{\"name\":\"Lactose Free\",\"tag_id\":4}],\"weight\":6.17},{\"cart_item_id\":9,\"category\":{\"category_id\":4,\"name\":\"Vegetable\"},\"description\":\"Organic eggplant, perfect for various culinary delights\",\"image\":\"https://mucci-production-user-uploads-bucket.s3.amazonaws.com/images/Product-IMG_MiniEggplant-rev.original.png\",\"name\":\"Eggplant\",\"price\":23.99,\"product_id\":3,\"quantity\":5,\"tags\":[{\"name\":\"Gluten Free\",\"tag_id\":1},{\"name\":\"Vegetarian\",\"tag_id\":2},{\"name\":\"Vegan\",\"tag_id\":3},{\"name\":\"Lactose Free\",\"tag_id\":4},{\"name\":\"Nut Free\",\"tag_id\":5}],\"weight\":6.17}]}\n",
      " \n",
      "\n",
      "{\"cart_id\":4,\"items\":[{\"cart_item_id\":10,\"category\":{\"category_id\":1,\"name\":\"Fruits\"},\"description\":\"Fresh and crisp apple, rich in vitamins and fiber\",\"image\":\"https://encrypted-tbn0.gstatic.com/images?q=tbn:ANd9GcTN2Hgg8YOw4ntI9XZl0XX4ppf2VmSYyMrwJjFJhpYJrMeMt6y0XcMqdrQwUytsYfMldkI&usqp=CAU\",\"name\":\"Apple\",\"price\":19.99,\"product_id\":1,\"quantity\":3,\"tags\":[{\"name\":\"Gluten Free\",\"tag_id\":1},{\"name\":\"Vegetarian\",\"tag_id\":2},{\"name\":\"Vegan\",\"tag_id\":3},{\"name\":\"Lactose Free\",\"tag_id\":4},{\"name\":\"Nut Free\",\"tag_id\":5}],\"weight\":5.51},{\"cart_item_id\":11,\"category\":{\"category_id\":3,\"name\":\"Nuts\"},\"description\":\"Premium quality almonds, packed with healthy fats and protein\",\"image\":\"https://www.healthysupplies.co.uk/pics/almonds-catpic21.jpg\",\"name\":\"Almonds\",\"price\":23.99,\"product_id\":2,\"quantity\":4,\"tags\":[{\"name\":\"Gluten Free\",\"tag_id\":1},{\"name\":\"Vegetarian\",\"tag_id\":2},{\"name\":\"Vegan\",\"tag_id\":3},{\"name\":\"Lactose Free\",\"tag_id\":4}],\"weight\":6.17},{\"cart_item_id\":12,\"category\":{\"category_id\":4,\"name\":\"Vegetable\"},\"description\":\"Organic eggplant, perfect for various culinary delights\",\"image\":\"https://mucci-production-user-uploads-bucket.s3.amazonaws.com/images/Product-IMG_MiniEggplant-rev.original.png\",\"name\":\"Eggplant\",\"price\":23.99,\"product_id\":3,\"quantity\":5,\"tags\":[{\"name\":\"Gluten Free\",\"tag_id\":1},{\"name\":\"Vegetarian\",\"tag_id\":2},{\"name\":\"Vegan\",\"tag_id\":3},{\"name\":\"Lactose Free\",\"tag_id\":4},{\"name\":\"Nut Free\",\"tag_id\":5}],\"weight\":6.17}]}\n",
      " \n",
      "\n"
     ]
    }
   ],
   "source": [
    "for user in users_credentials:\n",
    "    request5 = session.post(url=\"http://127.0.0.1:5000/login\", json=user)\n",
    "    request5 = session.post(url=\"http://127.0.0.1:5000/addCartItem\", json={\"product_id\":1, \"quantity\":3})\n",
    "    request5 = session.post(url=\"http://127.0.0.1:5000/addCartItem\", json={\"product_id\":2, \"quantity\":4})\n",
    "    request5 = session.post(url=\"http://127.0.0.1:5000/addCartItem\", json={\"product_id\":3, \"quantity\":5})\n",
    "    request5 = session.get(url=\"http://127.0.0.1:5000/getCart\")\n",
    "    print(request5.text, \"\\n\")\n",
    "    request5 = session.get(url=\"http://127.0.0.1:5000/logout\")\n",
    "    "
   ]
  },
  {
   "cell_type": "code",
   "execution_count": 55,
   "metadata": {},
   "outputs": [
    {
     "name": "stdout",
     "output_type": "stream",
     "text": [
      "{\"order_id\":1,\"placed_epoch\":1699911539,\"status\":0,\"total_price\":275.88,\"total_weight\":72.06}\n",
      " \n",
      "\n",
      "{\"order_id\":2,\"placed_epoch\":1699911541,\"status\":0,\"total_price\":275.88,\"total_weight\":72.06}\n",
      " \n",
      "\n"
     ]
    }
   ],
   "source": [
    "for user in users_credentials[0:2]:\n",
    "    request6 = session.post(url=\"http://127.0.0.1:5000/login\", json=user)\n",
    "    cart_list = session.get(url=\"http://127.0.0.1:5000/getCart\").json()[\"items\"]\n",
    "    request6 = session.post(url=\"http://127.0.0.1:5000/placeOrder\", json=cart_list)\n",
    "    print(request6.text, \"\\n\")\n",
    "    request6 = session.get(url=\"http://127.0.0.1:5000/logout\")\n",
    "    import time\n",
    "    time.sleep(1)"
   ]
  },
  {
   "cell_type": "code",
   "execution_count": 56,
   "metadata": {},
   "outputs": [
    {
     "name": "stdout",
     "output_type": "stream",
     "text": [
      "{\"order_id\":3,\"placed_epoch\":1699911542,\"status\":0,\"total_price\":275.88,\"total_weight\":72.06}\n",
      " \n",
      "\n",
      "{\"order_id\":4,\"placed_epoch\":1699911543,\"status\":0,\"total_price\":275.88,\"total_weight\":72.06}\n",
      " \n",
      "\n"
     ]
    }
   ],
   "source": [
    "for user in users_credentials[2:]:\n",
    "    request6 = session.post(url=\"http://127.0.0.1:5000/login\", json=user)\n",
    "    cart_list = session.get(url=\"http://127.0.0.1:5000/getCart\").json()[\"items\"]\n",
    "    request6 = session.post(url=\"http://127.0.0.1:5000/placeOrder\", json=cart_list)\n",
    "    print(request6.text, \"\\n\")\n",
    "    request6 = session.get(url=\"http://127.0.0.1:5000/logout\")\n",
    "    time.sleep(1)"
   ]
  },
  {
   "cell_type": "code",
   "execution_count": 57,
   "metadata": {},
   "outputs": [
    {
     "name": "stdout",
     "output_type": "stream",
     "text": [
      "{\"order_id\":5,\"placed_epoch\":1699911545,\"status\":0,\"total_price\":275.88,\"total_weight\":72.06}\n",
      " \n",
      "\n"
     ]
    }
   ],
   "source": [
    "reques7 = session.post(url=\"http://127.0.0.1:5000/login\", json={\"username\":\"Andrew1\", \"password\":\"asdfqwer\"})\n",
    "cart_list = session.get(url=\"http://127.0.0.1:5000/getCart\").json()[\"items\"]\n",
    "request7 = session.post(url=\"http://127.0.0.1:5000/placeOrder\", json=cart_list)\n",
    "print(request7.text, \"\\n\")\n",
    "request7 = session.get(url=\"http://127.0.0.1:5000/logout\")\n",
    "time.sleep(1)"
   ]
  },
  {
   "cell_type": "code",
   "execution_count": 58,
   "metadata": {},
   "outputs": [
    {
     "name": "stdout",
     "output_type": "stream",
     "text": [
      "[{'cart_item_id': 13, 'category': {'category_id': 1, 'name': 'Fruits'}, 'description': 'Sweet and nutritious banana, a great source of energy', 'image': 'https://th-thumbnailer.cdn-si-edu.com/4Nq8HbTKgX6djk07DqHqRsRuFq0=/1000x750/filters:no_upscale()/https://tf-cmsv2-smithsonianmag-media.s3.amazonaws.com/filer/d5/24/d5243019-e0fc-4b3c-8cdb-48e22f38bff2/istock-183380744.jpg', 'name': 'Banana', 'price': 23.99, 'product_id': 4, 'quantity': 2, 'tags': [{'name': 'Gluten Free', 'tag_id': 1}, {'name': 'Vegetarian', 'tag_id': 2}, {'name': 'Vegan', 'tag_id': 3}, {'name': 'Lactose Free', 'tag_id': 4}, {'name': 'Nut Free', 'tag_id': 5}], 'weight': 6.17}]\n"
     ]
    }
   ],
   "source": [
    "request8 = session.post(url=\"http://127.0.0.1:5000/login\", json={\"username\":\"Andrew1\", \"password\":\"asdfqwer\"})\n",
    "cart_list = session.get(url=\"http://127.0.0.1:5000/getCart\").json()[\"items\"]\n",
    "for cart_item in cart_list:\n",
    "    request8 = session.post(url=\"http://127.0.0.1:5000/removeCartItem\", json={\"cart_item_id\": cart_item[\"cart_item_id\"]})\n",
    "request8 = session.post(url=\"http://127.0.0.1:5000/addCartItem\", json={\"product_id\":4, \"quantity\":2})\n",
    "cart_list = session.get(url=\"http://127.0.0.1:5000/getCart\").json()[\"items\"]\n",
    "print(cart_list)\n",
    "time.sleep(1)\n"
   ]
  },
  {
   "cell_type": "code",
   "execution_count": 59,
   "metadata": {},
   "outputs": [],
   "source": [
    "request8 = session.post(url=\"http://127.0.0.1:5000/placeOrder\", json=cart_list)\n",
    "request8 = session.get(url=\"http://127.0.0.1:5000/logout\")\n"
   ]
  },
  {
   "cell_type": "code",
   "execution_count": null,
   "metadata": {},
   "outputs": [],
   "source": []
  },
  {
   "cell_type": "code",
   "execution_count": null,
   "metadata": {},
   "outputs": [],
   "source": []
  },
  {
   "cell_type": "code",
   "execution_count": 60,
   "metadata": {},
   "outputs": [],
   "source": [
    "# for user in reversed(users_credentials)[0:2]:\n",
    "#     request6 = session.post(url=\"http://127.0.0.1:5000/login\", json=user)\n",
    "#     cart_list = session.get(url=\"http://127.0.0.1:5000/getCart\").json()[\"items\"]\n",
    "#     request6 = session.post(url=\"http://127.0.0.1:5000/placeOrder\", json=cart_list)\n",
    "#     print(request6.text, \"\\n\")\n",
    "#     request6 = session.get(url=\"http://127.0.0.1:5000/logout\")\n",
    "#     time.sleep(1)"
   ]
  },
  {
   "cell_type": "code",
   "execution_count": null,
   "metadata": {},
   "outputs": [],
   "source": []
  }
 ],
 "metadata": {
  "kernelspec": {
   "display_name": "flask_backend2",
   "language": "python",
   "name": "python3"
  },
  "language_info": {
   "codemirror_mode": {
    "name": "ipython",
    "version": 3
   },
   "file_extension": ".py",
   "mimetype": "text/x-python",
   "name": "python",
   "nbconvert_exporter": "python",
   "pygments_lexer": "ipython3",
   "version": "3.10.0"
  }
 },
 "nbformat": 4,
 "nbformat_minor": 2
}
