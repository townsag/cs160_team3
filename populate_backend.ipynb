{
 "cells": [
  {
   "cell_type": "code",
   "execution_count": 1,
   "metadata": {},
   "outputs": [],
   "source": [
    "import requests\n",
    "\n",
    "session = requests.Session()"
   ]
  },
  {
   "cell_type": "code",
   "execution_count": 2,
   "metadata": {},
   "outputs": [],
   "source": [
    "import pdb"
   ]
  },
  {
   "cell_type": "code",
   "execution_count": 5,
   "metadata": {},
   "outputs": [],
   "source": [
    "base_url = \"http://127.0.0.1:5000\"\n",
    "# data1 = {'username': 'Andrew3', 'password': 'asdfqwer', 'address': '1234 street st', \"is_admin\": 1}\n",
    "admin_1 = {'username': 'Andrew1', 'password': 'asdfqwer', \n",
    "           'address': '1148 La Terrace Cir. San Jose, CA 95123', \"is_admin\":1}\n",
    "admin_2 = {'username': 'Sabrina1', 'password': 'asdfqwer', \n",
    "           'address': '461 Blossom Hill rd. San Jose, CA 95123', \"is_admin\":1}\n",
    "admin_3 = {'username': 'Dustin1', 'password': 'asdfqwer', \n",
    "           'address': '19501 Stevens Creek Blvd. Cupertino, CA 95014', \"is_admin\":1}\n",
    "admin_4 = {'username': 'Klyde1', 'password': 'asdfqwer', \n",
    "           'address': '2056 Fairway Glen Dr. Santa Clara, CA 95054', \"is_admin\":1}\n",
    "\n"
   ]
  },
  {
   "cell_type": "code",
   "execution_count": 6,
   "metadata": {},
   "outputs": [],
   "source": [
    "request1 = session.post(url=\"http://127.0.0.1:5000/signup\", json=admin_1)"
   ]
  },
  {
   "cell_type": "code",
   "execution_count": 12,
   "metadata": {},
   "outputs": [],
   "source": [
    "request1 = session.get(url=\"http://127.0.0.1:5000/getUser\")"
   ]
  },
  {
   "cell_type": "code",
   "execution_count": 10,
   "metadata": {},
   "outputs": [],
   "source": [
    "request1 = session.get(url=\"http://127.0.0.1:5000/logout\")"
   ]
  },
  {
   "cell_type": "code",
   "execution_count": null,
   "metadata": {},
   "outputs": [],
   "source": [
    "for user_data in [admin_2, admin_3, admin_4]:\n",
    "    request2 = session.post(url=\"http://127.0.0.1:5000/signup\", json=user_data)\n",
    "    print(request2.text)\n",
    "    request2 = session.get(url=\"http://127.0.0.1:5000/getUser\")\n",
    "    print(request2.text)\n",
    "    request2 = session.get(url=\"http://127.0.0.1:5000/logout\")\n",
    "    print(\"\\n\\n\")"
   ]
  },
  {
   "cell_type": "code",
   "execution_count": 16,
   "metadata": {},
   "outputs": [
    {
     "name": "stdout",
     "output_type": "stream",
     "text": [
      "[{\"category_id\": 1, \"name\": \"dummy_category\"}]\n"
     ]
    }
   ],
   "source": [
    "request3 = session.post(url=\"http://127.0.0.1:5000/login\", json={\"username\":\"Andrew1\", \"password\": \"asdfqwer\"})\n",
    "request3 = session.post(url=\"http://127.0.0.1:5000/createCategory\", json={\"name\":\"dummy_category\"})\n",
    "request3 = session.get(url=\"http://127.0.0.1:5000/getCategories\")\n",
    "print(request3.text)"
   ]
  },
  {
   "cell_type": "code",
   "execution_count": 17,
   "metadata": {},
   "outputs": [
    {
     "name": "stdout",
     "output_type": "stream",
     "text": [
      "[{\"tag_id\": 1, \"name\": \"dummy_tag\"}]\n"
     ]
    }
   ],
   "source": [
    "request3 = session.post(url=\"http://127.0.0.1:5000/createTag\", json={\"name\":\"dummy_tag\"})\n",
    "request3 = session.get(url=\"http://127.0.0.1:5000/getTags\")\n",
    "print(request3.text)"
   ]
  },
  {
   "cell_type": "code",
   "execution_count": 18,
   "metadata": {},
   "outputs": [],
   "source": [
    "products = [\n",
    "    {\n",
    "        \"name\": \"Peanut Butter\", \n",
    "        \"description\": \"creamy jar peanut butter\", \n",
    "        \"image\": \"none\", \n",
    "        \"quantity\": 200, \n",
    "        \"price\": 3.25, \n",
    "        \"weight\": 1.5, \n",
    "        \"category_id\": 1, \n",
    "        \"tags\": [1]\n",
    "    },\n",
    "    {\n",
    "        \"name\": \"Beef skirt steak\", \n",
    "        \"description\": \"beef skirt steak\", \n",
    "        \"image\": \"none\", \n",
    "        \"quantity\": 50, \n",
    "        \"price\": 6.50, \n",
    "        \"weight\": 1.1, \n",
    "        \"category_id\": 1, \n",
    "        \"tags\": [1]\n",
    "    },\n",
    "    {\n",
    "        \"name\": \"Heavy Apple\", \n",
    "        \"description\": \"super heavy apple, might take two trips\", \n",
    "        \"image\": \"none\", \n",
    "        \"quantity\": 100, \n",
    "        \"price\": 6.90, \n",
    "        \"weight\": 45, \n",
    "        \"category_id\": 1, \n",
    "        \"tags\": [1]\n",
    "    }\n",
    "]"
   ]
  },
  {
   "cell_type": "code",
   "execution_count": 19,
   "metadata": {},
   "outputs": [
    {
     "name": "stdout",
     "output_type": "stream",
     "text": [
      "{\"category\":{\"category_id\":1,\"name\":\"dummy_category\"},\"description\":\"creamy jar peanut butter\",\"image\":\"none\",\"name\":\"Peanut Butter\",\"price\":3.25,\"product_id\":1,\"quantity\":200,\"tags\":[{\"name\":\"dummy_tag\",\"tag_id\":1}],\"weight\":1.5}\n",
      "\n",
      "{\"category\":{\"category_id\":1,\"name\":\"dummy_category\"},\"description\":\"beef skirt steak\",\"image\":\"none\",\"name\":\"Beef skirt steak\",\"price\":6.5,\"product_id\":2,\"quantity\":50,\"tags\":[{\"name\":\"dummy_tag\",\"tag_id\":1}],\"weight\":1.1}\n",
      "\n",
      "{\"category\":{\"category_id\":1,\"name\":\"dummy_category\"},\"description\":\"super heavy apple, might take two trips\",\"image\":\"none\",\"name\":\"Heavy Apple\",\"price\":6.9,\"product_id\":3,\"quantity\":100,\"tags\":[{\"name\":\"dummy_tag\",\"tag_id\":1}],\"weight\":45.0}\n",
      "\n"
     ]
    }
   ],
   "source": [
    "for product in products:\n",
    "    request4 = session.post(url=\"http://127.0.0.1:5000/createProduct\", json=product)\n",
    "    print(request4.text)"
   ]
  },
  {
   "cell_type": "code",
   "execution_count": 20,
   "metadata": {},
   "outputs": [
    {
     "name": "stdout",
     "output_type": "stream",
     "text": [
      "Logging out Andrew1\n"
     ]
    }
   ],
   "source": [
    "request4 = session.get(url=\"http://127.0.0.1:5000/logout\")\n",
    "print(request4.text)"
   ]
  },
  {
   "cell_type": "code",
   "execution_count": 21,
   "metadata": {},
   "outputs": [],
   "source": [
    "users_credentials = [\n",
    "    {\"username\":\"Andrew1\", \"password\":\"asdfqwer\"},\n",
    "    {\"username\":\"Dustin1\", \"password\":\"asdfqwer\"},\n",
    "    {\"username\":\"Klyde1\", \"password\":\"asdfqwer\"}\n",
    "]"
   ]
  },
  {
   "cell_type": "code",
   "execution_count": 22,
   "metadata": {},
   "outputs": [
    {
     "name": "stdout",
     "output_type": "stream",
     "text": [
      "{\"cart_id\":1,\"items\":[{\"cart_item_id\":1,\"description\":\"creamy jar peanut butter\",\"image\":\"none\",\"name\":\"Peanut Butter\",\"price\":3.25,\"product_id\":1,\"quantity\":1,\"weight\":1.5},{\"cart_item_id\":2,\"description\":\"beef skirt steak\",\"image\":\"none\",\"name\":\"Beef skirt steak\",\"price\":6.5,\"product_id\":2,\"quantity\":1,\"weight\":1.1},{\"cart_item_id\":3,\"description\":\"super heavy apple, might take two trips\",\"image\":\"none\",\"name\":\"Heavy Apple\",\"price\":6.9,\"product_id\":3,\"quantity\":1,\"weight\":45.0}]}\n",
      " \n",
      "\n",
      "{\"cart_id\":2,\"items\":[{\"cart_item_id\":4,\"description\":\"creamy jar peanut butter\",\"image\":\"none\",\"name\":\"Peanut Butter\",\"price\":3.25,\"product_id\":1,\"quantity\":1,\"weight\":1.5},{\"cart_item_id\":5,\"description\":\"beef skirt steak\",\"image\":\"none\",\"name\":\"Beef skirt steak\",\"price\":6.5,\"product_id\":2,\"quantity\":1,\"weight\":1.1},{\"cart_item_id\":6,\"description\":\"super heavy apple, might take two trips\",\"image\":\"none\",\"name\":\"Heavy Apple\",\"price\":6.9,\"product_id\":3,\"quantity\":1,\"weight\":45.0}]}\n",
      " \n",
      "\n",
      "{\"cart_id\":3,\"items\":[{\"cart_item_id\":7,\"description\":\"creamy jar peanut butter\",\"image\":\"none\",\"name\":\"Peanut Butter\",\"price\":3.25,\"product_id\":1,\"quantity\":1,\"weight\":1.5},{\"cart_item_id\":8,\"description\":\"beef skirt steak\",\"image\":\"none\",\"name\":\"Beef skirt steak\",\"price\":6.5,\"product_id\":2,\"quantity\":1,\"weight\":1.1},{\"cart_item_id\":9,\"description\":\"super heavy apple, might take two trips\",\"image\":\"none\",\"name\":\"Heavy Apple\",\"price\":6.9,\"product_id\":3,\"quantity\":1,\"weight\":45.0}]}\n",
      " \n",
      "\n"
     ]
    }
   ],
   "source": [
    "for user in users_credentials:\n",
    "    request5 = session.post(url=\"http://127.0.0.1:5000/login\", json=user)\n",
    "    request5 = session.post(url=\"http://127.0.0.1:5000/addCartItem\", json={\"product_id\":1, \"quantity\":1})\n",
    "    request5 = session.post(url=\"http://127.0.0.1:5000/addCartItem\", json={\"product_id\":2, \"quantity\":1})\n",
    "    request5 = session.post(url=\"http://127.0.0.1:5000/addCartItem\", json={\"product_id\":3, \"quantity\":1})\n",
    "    request5 = session.get(url=\"http://127.0.0.1:5000/getCart\")\n",
    "    print(request5.text, \"\\n\")\n",
    "    request5 = session.get(url=\"http://127.0.0.1:5000/logout\")\n",
    "    "
   ]
  },
  {
   "cell_type": "code",
   "execution_count": 33,
   "metadata": {},
   "outputs": [],
   "source": [
    "for user in users_credentials:\n",
    "    request6 = session.post(url=\"http://127.0.0.1:5000/login\", json=user)\n",
    "    cart_list = session.get(url=\"http://127.0.0.1:5000/getCart\").json()[\"items\"]\n",
    "    request6 = session.post(url=\"http://127.0.0.1:5000/placeOrder\", json=cart_list)\n",
    "    request6 = session.get(url=\"http://127.0.0.1:5000/logout\")"
   ]
  },
  {
   "cell_type": "code",
   "execution_count": 34,
   "metadata": {},
   "outputs": [],
   "source": [
    "request7 = session.post(url=\"http://127.0.0.1:5000/login\", \n",
    "                        json={\"username\":\"Sabrina1\", \"password\":\"asdfqwer\"})\n",
    "request7 = session.post(url=\"http://127.0.0.1:5000/addCartItem\", json={\"product_id\":3, \"quantity\":2})\n",
    "cart_list = session.get(url=\"http://127.0.0.1:5000/getCart\").json()[\"items\"]\n",
    "request7 = session.post(url=\"http://127.0.0.1:5000/placeOrder\", json=cart_list)\n",
    "request7 = session.get(url=\"http://127.0.0.1:5000/logout\")"
   ]
  },
  {
   "cell_type": "code",
   "execution_count": 35,
   "metadata": {},
   "outputs": [],
   "source": [
    "request8 = session.post(url=\"http://127.0.0.1:5000/login\", \n",
    "                        json={\"username\":\"Andrew1\", \"password\":\"asdfqwer\"})\n",
    "cart_list = session.get(url=\"http://127.0.0.1:5000/getCart\").json()[\"items\"]\n",
    "request8 = session.post(url=\"http://127.0.0.1:5000/placeOrder\", json=cart_list)\n",
    "request8 = session.get(url=\"http://127.0.0.1:5000/logout\")"
   ]
  },
  {
   "cell_type": "code",
   "execution_count": null,
   "metadata": {},
   "outputs": [],
   "source": [
    "# [\n",
    "#     {\n",
    "#         \"cart_item_id\": 5,\n",
    "#         \"description\": \"super heavy apple, might take two trips\",\n",
    "#         \"image\": \"none\",\n",
    "#         \"name\": \"Heavy Apple\",\n",
    "#         \"price\": 6.9,\n",
    "#         \"product_id\": 5,\n",
    "#         \"quantity\": 1,\n",
    "#         \"weight\": 45.0\n",
    "#     },\n",
    "#     {\n",
    "#         \"cart_item_id\": 6,\n",
    "#         \"description\": \"creamy jar peanut butter\",\n",
    "#         \"image\": \"none\",\n",
    "#         \"name\": \"Peanut Butter\",\n",
    "#         \"price\": 3.25,\n",
    "#         \"product_id\": 3,\n",
    "#         \"quantity\": 6,\n",
    "#         \"weight\": 1.5\n",
    "#     }\n",
    "# ]"
   ]
  }
 ],
 "metadata": {
  "kernelspec": {
   "display_name": "flask_backend2",
   "language": "python",
   "name": "python3"
  },
  "language_info": {
   "codemirror_mode": {
    "name": "ipython",
    "version": 3
   },
   "file_extension": ".py",
   "mimetype": "text/x-python",
   "name": "python",
   "nbconvert_exporter": "python",
   "pygments_lexer": "ipython3",
   "version": "3.10.0"
  }
 },
 "nbformat": 4,
 "nbformat_minor": 2
}
