{
 "cells": [
  {
   "cell_type": "code",
   "execution_count": 1,
   "metadata": {},
   "outputs": [],
   "source": [
    "import requests\n",
    "\n",
    "session = requests.Session()"
   ]
  },
  {
   "cell_type": "code",
   "execution_count": 2,
   "metadata": {},
   "outputs": [],
   "source": [
    "import pdb"
   ]
  },
  {
   "cell_type": "code",
   "execution_count": 3,
   "metadata": {},
   "outputs": [],
   "source": [
    "base_url = \"http://127.0.0.1:5000\"\n",
    "# data1 = {'username': 'Andrew3', 'password': 'asdfqwer', 'address': '1234 street st', \"is_admin\": 1}\n",
    "admin_1 = {'username': 'Andrew1', 'password': 'asdfqwer', \n",
    "           'address': '1148 La Terrace Cir. San Jose, CA 95123', \"is_admin\":1}\n",
    "admin_2 = {'username': 'Sabrina1', 'password': 'asdfqwer', \n",
    "           'address': '461 Blossom Hill rd. San Jose, CA 95123', \"is_admin\":1}\n",
    "admin_3 = {'username': 'Dustin1', 'password': 'asdfqwer', \n",
    "           'address': '19501 Stevens Creek Blvd. Cupertino, CA 95014', \"is_admin\":1}\n",
    "admin_4 = {'username': 'Klyde1', 'password': 'asdfqwer', \n",
    "           'address': '2056 Fairway Glen Dr. Santa Clara, CA 95054', \"is_admin\":1}\n",
    "\n"
   ]
  },
  {
   "cell_type": "code",
   "execution_count": 4,
   "metadata": {},
   "outputs": [],
   "source": [
    "request1 = session.post(url=\"http://127.0.0.1:5000/signup\", json=admin_1)"
   ]
  },
  {
   "cell_type": "code",
   "execution_count": 5,
   "metadata": {},
   "outputs": [],
   "source": [
    "request1 = session.get(url=\"http://127.0.0.1:5000/getUser\")"
   ]
  },
  {
   "cell_type": "code",
   "execution_count": 6,
   "metadata": {},
   "outputs": [],
   "source": [
    "request1 = session.get(url=\"http://127.0.0.1:5000/logout\")"
   ]
  },
  {
   "cell_type": "code",
   "execution_count": 7,
   "metadata": {},
   "outputs": [
    {
     "name": "stdout",
     "output_type": "stream",
     "text": [
      "Signup Success\n",
      "{\"address\":null,\"is_admin\":true,\"user_id\":\"5\",\"username\":\"Sabrina1\"}\n",
      "\n",
      "\n",
      "\n",
      "\n",
      "Signup Success\n",
      "{\"address\":null,\"is_admin\":true,\"user_id\":\"6\",\"username\":\"Dustin1\"}\n",
      "\n",
      "\n",
      "\n",
      "\n",
      "Signup Success\n",
      "{\"address\":null,\"is_admin\":true,\"user_id\":\"7\",\"username\":\"Klyde1\"}\n",
      "\n",
      "\n",
      "\n",
      "\n"
     ]
    }
   ],
   "source": [
    "for user_data in [admin_2, admin_3, admin_4]:\n",
    "    request2 = session.post(url=\"http://127.0.0.1:5000/signup\", json=user_data)\n",
    "    print(request2.text)\n",
    "    request2 = session.get(url=\"http://127.0.0.1:5000/getUser\")\n",
    "    print(request2.text)\n",
    "    request2 = session.get(url=\"http://127.0.0.1:5000/logout\")\n",
    "    print(\"\\n\\n\")"
   ]
  },
  {
   "cell_type": "code",
   "execution_count": 8,
   "metadata": {},
   "outputs": [
    {
     "name": "stdout",
     "output_type": "stream",
     "text": [
      "[{\"category_id\": 1, \"name\": \"Fruits\"}, {\"category_id\": 2, \"name\": \"Protein\"}, {\"category_id\": 3, \"name\": \"Nuts\"}, {\"category_id\": 4, \"name\": \"Vegetable\"}, {\"category_id\": 5, \"name\": \"dummy_category\"}]\n"
     ]
    }
   ],
   "source": [
    "request3 = session.post(url=\"http://127.0.0.1:5000/login\", json={\"username\":\"Andrew1\", \"password\": \"asdfqwer\"})\n",
    "request3 = session.post(url=\"http://127.0.0.1:5000/createCategory\", json={\"name\":\"dummy_category\"})\n",
    "request3 = session.get(url=\"http://127.0.0.1:5000/getCategories\")\n",
    "print(request3.text)"
   ]
  },
  {
   "cell_type": "code",
   "execution_count": 9,
   "metadata": {},
   "outputs": [
    {
     "name": "stdout",
     "output_type": "stream",
     "text": [
      "[{\"tag_id\": 1, \"name\": \"Gluten Free\"}, {\"tag_id\": 2, \"name\": \"Vegetarian\"}, {\"tag_id\": 3, \"name\": \"Vegan\"}, {\"tag_id\": 4, \"name\": \"Lactose Free\"}, {\"tag_id\": 5, \"name\": \"Nut Free\"}, {\"tag_id\": 6, \"name\": \"dummy_tag\"}]\n"
     ]
    }
   ],
   "source": [
    "request3 = session.post(url=\"http://127.0.0.1:5000/createTag\", json={\"name\":\"dummy_tag\"})\n",
    "request3 = session.get(url=\"http://127.0.0.1:5000/getTags\")\n",
    "print(request3.text)"
   ]
  },
  {
   "cell_type": "code",
   "execution_count": 10,
   "metadata": {},
   "outputs": [],
   "source": [
    "products = [\n",
    "    {\n",
    "        \"name\": \"Peanut Butter\", \n",
    "        \"description\": \"creamy jar peanut butter\", \n",
    "        \"image\": \"none\", \n",
    "        \"quantity\": 200, \n",
    "        \"price\": 3.25, \n",
    "        \"weight\": 1.5, \n",
    "        \"category_id\": 1, \n",
    "        \"tags\": [1]\n",
    "    },\n",
    "    {\n",
    "        \"name\": \"Beef skirt steak\", \n",
    "        \"description\": \"beef skirt steak\", \n",
    "        \"image\": \"none\", \n",
    "        \"quantity\": 50, \n",
    "        \"price\": 6.50, \n",
    "        \"weight\": 1.1, \n",
    "        \"category_id\": 1, \n",
    "        \"tags\": [1]\n",
    "    },\n",
    "    {\n",
    "        \"name\": \"Heavy Apple\", \n",
    "        \"description\": \"super heavy apple, might take two trips\", \n",
    "        \"image\": \"none\", \n",
    "        \"quantity\": 100, \n",
    "        \"price\": 6.90, \n",
    "        \"weight\": 45, \n",
    "        \"category_id\": 1, \n",
    "        \"tags\": [1]\n",
    "    }\n",
    "]"
   ]
  },
  {
   "cell_type": "code",
   "execution_count": 11,
   "metadata": {},
   "outputs": [
    {
     "name": "stdout",
     "output_type": "stream",
     "text": [
      "{\"category\":{\"category_id\":1,\"name\":\"Fruits\"},\"description\":\"creamy jar peanut butter\",\"image\":\"none\",\"name\":\"Peanut Butter\",\"price\":3.25,\"product_id\":19,\"quantity\":200,\"tags\":[{\"name\":\"Gluten Free\",\"tag_id\":1}],\"weight\":1.5}\n",
      "\n",
      "{\"category\":{\"category_id\":1,\"name\":\"Fruits\"},\"description\":\"beef skirt steak\",\"image\":\"none\",\"name\":\"Beef skirt steak\",\"price\":6.5,\"product_id\":20,\"quantity\":50,\"tags\":[{\"name\":\"Gluten Free\",\"tag_id\":1}],\"weight\":1.1}\n",
      "\n",
      "Invalid weight type\n"
     ]
    }
   ],
   "source": [
    "for product in products:\n",
    "    request4 = session.post(url=\"http://127.0.0.1:5000/createProduct\", json=product)\n",
    "    print(request4.text)"
   ]
  },
  {
   "cell_type": "code",
   "execution_count": 12,
   "metadata": {},
   "outputs": [
    {
     "name": "stdout",
     "output_type": "stream",
     "text": [
      "Logging out Andrew1\n"
     ]
    }
   ],
   "source": [
    "request4 = session.get(url=\"http://127.0.0.1:5000/logout\")\n",
    "print(request4.text)"
   ]
  },
  {
   "cell_type": "code",
   "execution_count": 13,
   "metadata": {},
   "outputs": [],
   "source": [
    "users_credentials = [\n",
    "    {\"username\":\"Andrew1\", \"password\":\"asdfqwer\"},\n",
    "    {\"username\":\"Dustin1\", \"password\":\"asdfqwer\"},\n",
    "    {\"username\":\"Klyde1\", \"password\":\"asdfqwer\"}\n",
    "]"
   ]
  },
  {
   "cell_type": "code",
   "execution_count": 19,
   "metadata": {},
   "outputs": [
    {
     "name": "stdout",
     "output_type": "stream",
     "text": [
      "{\"cart_id\":3,\"items\":[{\"cart_item_id\":5,\"category\":{\"category_id\":1,\"name\":\"Fruits\"},\"description\":\"Fresh and crisp apple, rich in vitamins and fiber\",\"image\":\"https://encrypted-tbn0.gstatic.com/images?q=tbn:ANd9GcTN2Hgg8YOw4ntI9XZl0XX4ppf2VmSYyMrwJjFJhpYJrMeMt6y0XcMqdrQwUytsYfMldkI&usqp=CAU\",\"name\":\"Apple\",\"price\":19.99,\"product_id\":1,\"quantity\":2,\"tags\":[{\"name\":\"Gluten Free\",\"tag_id\":1},{\"name\":\"Vegetarian\",\"tag_id\":2},{\"name\":\"Vegan\",\"tag_id\":3},{\"name\":\"Lactose Free\",\"tag_id\":4},{\"name\":\"Nut Free\",\"tag_id\":5}],\"weight\":5.51},{\"cart_item_id\":6,\"category\":{\"category_id\":3,\"name\":\"Nuts\"},\"description\":\"Premium quality almonds, packed with healthy fats and protein\",\"image\":\"https://www.healthysupplies.co.uk/pics/almonds-catpic21.jpg\",\"name\":\"Almonds\",\"price\":23.99,\"product_id\":2,\"quantity\":2,\"tags\":[{\"name\":\"Gluten Free\",\"tag_id\":1},{\"name\":\"Vegetarian\",\"tag_id\":2},{\"name\":\"Vegan\",\"tag_id\":3},{\"name\":\"Lactose Free\",\"tag_id\":4}],\"weight\":6.17},{\"cart_item_id\":7,\"category\":{\"category_id\":4,\"name\":\"Vegetable\"},\"description\":\"Organic eggplant, perfect for various culinary delights\",\"image\":\"https://mucci-production-user-uploads-bucket.s3.amazonaws.com/images/Product-IMG_MiniEggplant-rev.original.png\",\"name\":\"Eggplant\",\"price\":23.99,\"product_id\":3,\"quantity\":2,\"tags\":[{\"name\":\"Gluten Free\",\"tag_id\":1},{\"name\":\"Vegetarian\",\"tag_id\":2},{\"name\":\"Vegan\",\"tag_id\":3},{\"name\":\"Lactose Free\",\"tag_id\":4},{\"name\":\"Nut Free\",\"tag_id\":5}],\"weight\":6.17}]}\n",
      " \n",
      "\n",
      "{\"cart_id\":4,\"items\":[{\"cart_item_id\":8,\"category\":{\"category_id\":1,\"name\":\"Fruits\"},\"description\":\"Fresh and crisp apple, rich in vitamins and fiber\",\"image\":\"https://encrypted-tbn0.gstatic.com/images?q=tbn:ANd9GcTN2Hgg8YOw4ntI9XZl0XX4ppf2VmSYyMrwJjFJhpYJrMeMt6y0XcMqdrQwUytsYfMldkI&usqp=CAU\",\"name\":\"Apple\",\"price\":19.99,\"product_id\":1,\"quantity\":2,\"tags\":[{\"name\":\"Gluten Free\",\"tag_id\":1},{\"name\":\"Vegetarian\",\"tag_id\":2},{\"name\":\"Vegan\",\"tag_id\":3},{\"name\":\"Lactose Free\",\"tag_id\":4},{\"name\":\"Nut Free\",\"tag_id\":5}],\"weight\":5.51},{\"cart_item_id\":9,\"category\":{\"category_id\":3,\"name\":\"Nuts\"},\"description\":\"Premium quality almonds, packed with healthy fats and protein\",\"image\":\"https://www.healthysupplies.co.uk/pics/almonds-catpic21.jpg\",\"name\":\"Almonds\",\"price\":23.99,\"product_id\":2,\"quantity\":2,\"tags\":[{\"name\":\"Gluten Free\",\"tag_id\":1},{\"name\":\"Vegetarian\",\"tag_id\":2},{\"name\":\"Vegan\",\"tag_id\":3},{\"name\":\"Lactose Free\",\"tag_id\":4}],\"weight\":6.17},{\"cart_item_id\":10,\"category\":{\"category_id\":4,\"name\":\"Vegetable\"},\"description\":\"Organic eggplant, perfect for various culinary delights\",\"image\":\"https://mucci-production-user-uploads-bucket.s3.amazonaws.com/images/Product-IMG_MiniEggplant-rev.original.png\",\"name\":\"Eggplant\",\"price\":23.99,\"product_id\":3,\"quantity\":2,\"tags\":[{\"name\":\"Gluten Free\",\"tag_id\":1},{\"name\":\"Vegetarian\",\"tag_id\":2},{\"name\":\"Vegan\",\"tag_id\":3},{\"name\":\"Lactose Free\",\"tag_id\":4},{\"name\":\"Nut Free\",\"tag_id\":5}],\"weight\":6.17}]}\n",
      " \n",
      "\n",
      "{\"cart_id\":5,\"items\":[{\"cart_item_id\":11,\"category\":{\"category_id\":1,\"name\":\"Fruits\"},\"description\":\"Fresh and crisp apple, rich in vitamins and fiber\",\"image\":\"https://encrypted-tbn0.gstatic.com/images?q=tbn:ANd9GcTN2Hgg8YOw4ntI9XZl0XX4ppf2VmSYyMrwJjFJhpYJrMeMt6y0XcMqdrQwUytsYfMldkI&usqp=CAU\",\"name\":\"Apple\",\"price\":19.99,\"product_id\":1,\"quantity\":2,\"tags\":[{\"name\":\"Gluten Free\",\"tag_id\":1},{\"name\":\"Vegetarian\",\"tag_id\":2},{\"name\":\"Vegan\",\"tag_id\":3},{\"name\":\"Lactose Free\",\"tag_id\":4},{\"name\":\"Nut Free\",\"tag_id\":5}],\"weight\":5.51},{\"cart_item_id\":12,\"category\":{\"category_id\":3,\"name\":\"Nuts\"},\"description\":\"Premium quality almonds, packed with healthy fats and protein\",\"image\":\"https://www.healthysupplies.co.uk/pics/almonds-catpic21.jpg\",\"name\":\"Almonds\",\"price\":23.99,\"product_id\":2,\"quantity\":2,\"tags\":[{\"name\":\"Gluten Free\",\"tag_id\":1},{\"name\":\"Vegetarian\",\"tag_id\":2},{\"name\":\"Vegan\",\"tag_id\":3},{\"name\":\"Lactose Free\",\"tag_id\":4}],\"weight\":6.17},{\"cart_item_id\":13,\"category\":{\"category_id\":4,\"name\":\"Vegetable\"},\"description\":\"Organic eggplant, perfect for various culinary delights\",\"image\":\"https://mucci-production-user-uploads-bucket.s3.amazonaws.com/images/Product-IMG_MiniEggplant-rev.original.png\",\"name\":\"Eggplant\",\"price\":23.99,\"product_id\":3,\"quantity\":2,\"tags\":[{\"name\":\"Gluten Free\",\"tag_id\":1},{\"name\":\"Vegetarian\",\"tag_id\":2},{\"name\":\"Vegan\",\"tag_id\":3},{\"name\":\"Lactose Free\",\"tag_id\":4},{\"name\":\"Nut Free\",\"tag_id\":5}],\"weight\":6.17}]}\n",
      " \n",
      "\n"
     ]
    }
   ],
   "source": [
    "for user in users_credentials:\n",
    "    request5 = session.post(url=\"http://127.0.0.1:5000/login\", json=user)\n",
    "    request5 = session.post(url=\"http://127.0.0.1:5000/addCartItem\", json={\"product_id\":1, \"quantity\":1})\n",
    "    request5 = session.post(url=\"http://127.0.0.1:5000/addCartItem\", json={\"product_id\":2, \"quantity\":1})\n",
    "    request5 = session.post(url=\"http://127.0.0.1:5000/addCartItem\", json={\"product_id\":3, \"quantity\":1})\n",
    "    request5 = session.get(url=\"http://127.0.0.1:5000/getCart\")\n",
    "    print(request5.text, \"\\n\")\n",
    "    request5 = session.get(url=\"http://127.0.0.1:5000/logout\")\n",
    "    "
   ]
  },
  {
   "cell_type": "code",
   "execution_count": 21,
   "metadata": {},
   "outputs": [
    {
     "name": "stdout",
     "output_type": "stream",
     "text": [
      "[{'cart_item_id': 11, 'category': {'category_id': 1, 'name': 'Fruits'}, 'description': 'Fresh and crisp apple, rich in vitamins and fiber', 'image': 'https://encrypted-tbn0.gstatic.com/images?q=tbn:ANd9GcTN2Hgg8YOw4ntI9XZl0XX4ppf2VmSYyMrwJjFJhpYJrMeMt6y0XcMqdrQwUytsYfMldkI&usqp=CAU', 'name': 'Apple', 'price': 19.99, 'product_id': 1, 'quantity': 2, 'tags': [{'name': 'Gluten Free', 'tag_id': 1}, {'name': 'Vegetarian', 'tag_id': 2}, {'name': 'Vegan', 'tag_id': 3}, {'name': 'Lactose Free', 'tag_id': 4}, {'name': 'Nut Free', 'tag_id': 5}], 'weight': 5.51}, {'cart_item_id': 12, 'category': {'category_id': 3, 'name': 'Nuts'}, 'description': 'Premium quality almonds, packed with healthy fats and protein', 'image': 'https://www.healthysupplies.co.uk/pics/almonds-catpic21.jpg', 'name': 'Almonds', 'price': 23.99, 'product_id': 2, 'quantity': 2, 'tags': [{'name': 'Gluten Free', 'tag_id': 1}, {'name': 'Vegetarian', 'tag_id': 2}, {'name': 'Vegan', 'tag_id': 3}, {'name': 'Lactose Free', 'tag_id': 4}], 'weight': 6.17}, {'cart_item_id': 13, 'category': {'category_id': 4, 'name': 'Vegetable'}, 'description': 'Organic eggplant, perfect for various culinary delights', 'image': 'https://mucci-production-user-uploads-bucket.s3.amazonaws.com/images/Product-IMG_MiniEggplant-rev.original.png', 'name': 'Eggplant', 'price': 23.99, 'product_id': 3, 'quantity': 2, 'tags': [{'name': 'Gluten Free', 'tag_id': 1}, {'name': 'Vegetarian', 'tag_id': 2}, {'name': 'Vegan', 'tag_id': 3}, {'name': 'Lactose Free', 'tag_id': 4}, {'name': 'Nut Free', 'tag_id': 5}], 'weight': 6.17}]\n"
     ]
    }
   ],
   "source": [
    "for user in users_credentials:\n",
    "    request6 = session.post(url=\"http://127.0.0.1:5000/login\", json=user)\n",
    "    cart_list = session.get(url=\"http://127.0.0.1:5000/getCart\").json()[\"items\"]\n",
    "    request6 = session.post(url=\"http://127.0.0.1:5000/placeOrder\", json=cart_list)\n",
    "    request6 = session.get(url=\"http://127.0.0.1:5000/logout\")\n",
    "print(cart_list)"
   ]
  },
  {
   "cell_type": "code",
   "execution_count": 16,
   "metadata": {},
   "outputs": [],
   "source": [
    "request7 = session.post(url=\"http://127.0.0.1:5000/login\", \n",
    "                        json={\"username\":\"Sabrina1\", \"password\":\"asdfqwer\"})\n",
    "request7 = session.post(url=\"http://127.0.0.1:5000/addCartItem\", json={\"product_id\":3, \"quantity\":2})\n",
    "cart_list = session.get(url=\"http://127.0.0.1:5000/getCart\").json()[\"items\"]\n",
    "request7 = session.post(url=\"http://127.0.0.1:5000/placeOrder\", json=cart_list)\n",
    "request7 = session.get(url=\"http://127.0.0.1:5000/logout\")"
   ]
  },
  {
   "cell_type": "code",
   "execution_count": 20,
   "metadata": {},
   "outputs": [],
   "source": [
    "request8 = session.post(url=\"http://127.0.0.1:5000/login\", \n",
    "                        json={\"username\":\"Andrew1\", \"password\":\"asdfqwer\"})\n",
    "cart_list = session.get(url=\"http://127.0.0.1:5000/getCart\").json()[\"items\"]\n",
    "request8 = session.post(url=\"http://127.0.0.1:5000/placeOrder\", json=cart_list)\n",
    "request8 = session.get(url=\"http://127.0.0.1:5000/logout\")"
   ]
  },
  {
   "cell_type": "code",
   "execution_count": 18,
   "metadata": {},
   "outputs": [],
   "source": [
    "# [\n",
    "#     {\n",
    "#         \"cart_item_id\": 5,\n",
    "#         \"description\": \"super heavy apple, might take two trips\",\n",
    "#         \"image\": \"none\",\n",
    "#         \"name\": \"Heavy Apple\",\n",
    "#         \"price\": 6.9,\n",
    "#         \"product_id\": 5,\n",
    "#         \"quantity\": 1,\n",
    "#         \"weight\": 45.0\n",
    "#     },\n",
    "#     {\n",
    "#         \"cart_item_id\": 6,\n",
    "#         \"description\": \"creamy jar peanut butter\",\n",
    "#         \"image\": \"none\",\n",
    "#         \"name\": \"Peanut Butter\",\n",
    "#         \"price\": 3.25,\n",
    "#         \"product_id\": 3,\n",
    "#         \"quantity\": 6,\n",
    "#         \"weight\": 1.5\n",
    "#     }\n",
    "# ]"
   ]
  }
 ],
 "metadata": {
  "kernelspec": {
   "display_name": "flask_backend2",
   "language": "python",
   "name": "python3"
  },
  "language_info": {
   "codemirror_mode": {
    "name": "ipython",
    "version": 3
   },
   "file_extension": ".py",
   "mimetype": "text/x-python",
   "name": "python",
   "nbconvert_exporter": "python",
   "pygments_lexer": "ipython3",
   "version": "3.11.4"
  }
 },
 "nbformat": 4,
 "nbformat_minor": 2
}
